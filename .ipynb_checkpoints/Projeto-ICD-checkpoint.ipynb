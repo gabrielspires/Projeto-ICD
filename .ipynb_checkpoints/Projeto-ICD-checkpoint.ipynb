{
 "cells": [
  {
   "cell_type": "markdown",
   "metadata": {},
   "source": [
    "# Projeto de ICD - Dota 2\n",
    "\n",
    "#### Alunos:\n",
    "    Gabriel Henrique\n",
    "    Matheus Vargas\n",
    "    Raydan Gaspar\n",
    "\n",
    "1. Definir Tema e grupo. (2pts) ✔️\n",
    "2. Discussão com Monitores. (3pts) ✔️\n",
    "3. Relatório Final. Entregue um relatório sobre os resultados que você levantou para responder às suas perguntas. Sua análise dos dados devem apresentar:\n",
    "    * Uma caracterização (análise exploratória) inicial dos dados (2pts)\n",
    "    * Pelo menos, dois testes de hipótese/intervalos de confiança (2pts)\n",
    "        * Os ICs podem ser apresentados nos resultados de regressão e classificação abaixo.\n",
    "        * Os testes de hipótese também podem ser utilizados abaixo para comparar modelos.\n",
    "    * Pelo menos uma regressão (3pts)\n",
    "    * Pelo menos um algoritmo de aprendizado/classificação (3pts)\n",
    "4. No seu relatório, você deve apresentar pelo menos os seguintes pontos:\n",
    " * Introdução com Motivação e Pergunta de Pesquisa\n",
    " * Metodologia\n",
    " * Descreva sua base\n",
    " * Quais métodos e modelos foram utilizados. Justifique os mesmos.\n",
    "5. Resultados. Sugiro separar em\n",
    " * Caracterização (análise exploratória)\n",
    "     * Testes de hipótese podem vir aqui.\n",
    " * Previsão (uma ou duas sub-seções dependendo dos modelos utilizados)\n",
    "6. Conclusões\n",
    " * Responda sua pergunta pelo menos de forma evidencial.\n",
    "7. Vídeo no Youtube 5 minutos. Pode ser um vídeo só dos slides!! Com as falas, claro. 5pts."
   ]
  },
  {
   "cell_type": "markdown",
   "metadata": {},
   "source": [
    "# Introdução\n",
    "\n",
    "![](img/dota_logo.png)\n",
    "\n",
    "# Tema\n",
    "\n",
    "Dota 2 é um jogo eletrônico do gênero Multiplayer Online Battle Arena (MOBA, \"arena de batalha multijogador online\"), também conhecido como Action Real-Time Strategy (ARTS, \"estratégia de ação em tempo real\") onde o jogador controla um personagem em uma batalha entre dois times, cujo objetivo é derrotar a equipe adversária e, para isso, é, indispensavelmente, necessário destruir o Ancestral (Ancient), que, por sua vez, se localiza no centro da base inimiga. Cada base é defendida por torres e ondas de unidades (chamadas de creeps) que percorrem os caminhos principais do mapa (chamadas de trilhas, ou lanes) que levam à suas bases. Existem 3 trilhas no mapa do jogo, que por convenção são chamadas de trilha de cima (Top, atravessa a parte de cima do mapa), trilha do meio (Mid ou Middle, caminho que atravessa o centro do mapa) e trilha de baixo (Bot ou Bottom, caminho que atravessa a parte de baixo do mapa). \n",
    "\n",
    "Na imagem abaixo podemos ver o minimapa do Dota2 e ao lado um diagrama representando o layout de um jogo do gênero MOBA, onde os pontos roxos e rosas representam as torres de cada time, com exceção do maior ponto localizado nos cantos da imagem dentro de cada base, que representa o Ancient.\n",
    "\n",
    "| ![](img/minimaps.png)|\n",
    "|:--:| \n",
    "| **Figura 1**: Minimapa do Dota 2 (esquerda) e layout padrão de jogos MOBA (direita) |\n",
    "\n",
    "\n",
    "## Motivação\n",
    "\n",
    "## Pergunta de Pesquisa"
   ]
  },
  {
   "cell_type": "markdown",
   "metadata": {},
   "source": [
    "# Metodologia\n",
    "\n",
    "\n",
    "# Descrição da base\n",
    "Os dados foram coletados utilizando a API não oficial do jogo, chamada OpenDoTA, nela coletamos dados de várias partidas do ano de 2015, assim como os dados dos jogadores presentes em cada partida e todas as suas ações, como por exemplo as coordenadas das posições que o jogador passou durante a partida, o herói que escolheu, quantas vezes morreu, entre outros. Os dados coletados foram disponibilizados em formato json, e não em formato de tabelas como precisávamos, então foi preciso selecionar os dados que queríamos entre aqueles fornecidos pela API e montar um banco de dados a partir deles. \n",
    "\n",
    "Uma característica do formato json é usar o tipo abstrato de dados dicionário, que é composto de pares de chaves e valores, onde cada chave pode conter uma lista de outras chaves e seus valores, isso faz com que existam várias \"sub-tabelas\" nos dados, o que impossibilita a importação dos dados diretamente para um banco de dados convencional. Dessa forma, foram criadas tabelas separadas para cada conjunto de valores do json, sendo que cada tabela referencia o seu \"pai\" original através de chaves estrangeiras, dessa forma conseguimos manter a relação dos dados como era originalmente feito no json.\n",
    "\n",
    "Um exemplo dos dados pode ser visto na imagem abaixo.\n",
    "\n",
    "| ![](img/exemplo_json.png) |\n",
    "|:--:| \n",
    "| **Figura 2**: Amostra dos dados coletados em formato json |\n",
    "\n",
    "Alguns dados não podiam ser buscados através da API, como por exemplo os nomes e números identificadores de cada personagem ou item do jogo, que são informações constantes, que não mudam entre as partidas, mas precisávamos dessas informações uma vez que a maior parte dos dados é numérica, e não seria interessante ter apenas números, mas sim nomes e significados para que os dados fizessem mais sentido. Por fim encontramos esses dados também em formato json, compatíveis com os dados da API, o que fez com que ficasse mais natural a relação entre as informações.\n",
    "\n",
    "A imagem abaixo mostra um exemplo dos dados constantes de itens do jogo, com o id e nome de cada item listado em formato json.\n",
    "\n",
    "| ![](img/exemplo_constantes.png) | \n",
    "|:--:| \n",
    "| **Figura 3**:  Dados constantes do jogo, servem de referência para os dados das partidas |\n",
    "\n",
    "\n",
    "# Métodos e modelos utilizados. \n",
    "Justifique os mesmos.\n",
    "\n",
    "# Resultados\n",
    "\n",
    "\n",
    "### Caracterização (análise exploratória)\n",
    "Neste trabalho, utilizaremos dados de partidas online do jogo eletrônico Dota 2 realizadas no ano de 2015. Nosso objetivo aqui é fazer uma investigação inicial dos dados, a fim de detectar problemas, necessidade de mais variáveis, falhas na organização e na transformação da informação.\n",
    "\n",
    "O primeiro passo é importar as bibliotecas que vamos utilizar."
   ]
  },
  {
   "cell_type": "code",
   "execution_count": 1,
   "metadata": {},
   "outputs": [],
   "source": [
    "import numpy as np # Álgebra linear\n",
    "import pandas as pd # Dataframes\n",
    "from matplotlib import pyplot as plt # Plot dos gráficos\n",
    "import sqlite3 # Acesso e manipulação do banco de dados\n",
    "import seaborn as sns # # Gráficos"
   ]
  },
  {
   "cell_type": "markdown",
   "metadata": {},
   "source": [
    "Agora precisamos fazer a conexão com o banco de dados, nesse caso estamos utilizando um banco no formato SQLite, que contém todas as tabelas que vamos utilizar."
   ]
  },
  {
   "cell_type": "code",
   "execution_count": 2,
   "metadata": {},
   "outputs": [],
   "source": [
    "conn = sqlite3.connect('dota2_791_partidas.db')\n",
    "cursor = conn.cursor()"
   ]
  },
  {
   "cell_type": "markdown",
   "metadata": {},
   "source": [
    "Como se trata de um banco de dados relacional, precisamos verificar quais tabelas existem"
   ]
  },
  {
   "cell_type": "code",
   "execution_count": null,
   "metadata": {},
   "outputs": [],
   "source": [
    "df_all_tables = pd.read_sql_query('''SELECT name FROM sqlite_master WHERE type = 'table';''', conn)\n",
    "\n",
    "print('Número de tabelas na base de dados:', df_all_tables.shape[0])\n",
    "df_all_tables"
   ]
  },
  {
   "cell_type": "markdown",
   "metadata": {},
   "source": [
    "Sabemos que as tabelas principais são 'match' e 'player', vamos ver como os dados nessas tabelas estão distribuídos.\n",
    "\n",
    "Primeiro vamos analisar a tabela das partidas."
   ]
  },
  {
   "cell_type": "code",
   "execution_count": null,
   "metadata": {},
   "outputs": [],
   "source": [
    "df_match = pd.read_sql_query('''SELECT * FROM match''', conn)\n",
    "\n",
    "print('Shape da tabela match:', df_match.shape)\n",
    "df_match.describe()"
   ]
  },
  {
   "cell_type": "markdown",
   "metadata": {},
   "source": [
    "Agora vamos analisar os dados da tabela de jogadores."
   ]
  },
  {
   "cell_type": "code",
   "execution_count": null,
   "metadata": {},
   "outputs": [],
   "source": [
    "df_player = pd.read_sql_query('''SELECT * FROM player''', conn)\n",
    "\n",
    "pd.set_option('display.max_columns', 23)\n",
    "print('Shape da tabela player:', df_player.shape)\n",
    "df_player.describe()"
   ]
  },
  {
   "cell_type": "markdown",
   "metadata": {},
   "source": [
    "Para condensar os dados em um único dataframe, para ajudar em algumas análises, precisamos encontrar uma forma de unir as tabelas. Sabemos que em cada partida, existem 10 jogadores, 5 em cada um dos dois times, então uma maneira de condensar os dados é somando as estatísticas de cada time e adicionar essas estatísticas nas linhas de cada partida, separando as partidas por time, ou seja, onde antes existia uma entrada por partida, agora irá existir uma entrada por time para cada uma das partidas."
   ]
  },
  {
   "cell_type": "code",
   "execution_count": 40,
   "metadata": {
    "scrolled": false
   },
   "outputs": [
    {
     "data": {
      "text/html": [
       "<div>\n",
       "<style scoped>\n",
       "    .dataframe tbody tr th:only-of-type {\n",
       "        vertical-align: middle;\n",
       "    }\n",
       "\n",
       "    .dataframe tbody tr th {\n",
       "        vertical-align: top;\n",
       "    }\n",
       "\n",
       "    .dataframe thead th {\n",
       "        text-align: right;\n",
       "    }\n",
       "</style>\n",
       "<table border=\"1\" class=\"dataframe\">\n",
       "  <thead>\n",
       "    <tr style=\"text-align: right;\">\n",
       "      <th></th>\n",
       "      <th>match_id</th>\n",
       "      <th>radiant_win</th>\n",
       "      <th>duration</th>\n",
       "      <th>human_players</th>\n",
       "      <th>tower_status_dire</th>\n",
       "      <th>tower_status_radiant</th>\n",
       "      <th>barracks_status_radiant</th>\n",
       "      <th>barracks_status_dire</th>\n",
       "      <th>first_blood_time</th>\n",
       "      <th>Team</th>\n",
       "      <th>sum(gold_spent)</th>\n",
       "      <th>sum(gold)</th>\n",
       "      <th>sum(xp_per_min)</th>\n",
       "      <th>sum(level)</th>\n",
       "      <th>sum(hero_healing)</th>\n",
       "      <th>sum(hero_damage)</th>\n",
       "      <th>sum(tower_damage)</th>\n",
       "      <th>sum(last_hits)</th>\n",
       "      <th>sum(kills)</th>\n",
       "      <th>sum(denies)</th>\n",
       "      <th>sum(deaths)</th>\n",
       "      <th>sum(gold_per_min)</th>\n",
       "      <th>sum(assists)</th>\n",
       "      <th>game_mode_name</th>\n",
       "      <th>lobby_type_name</th>\n",
       "    </tr>\n",
       "  </thead>\n",
       "  <tbody>\n",
       "    <tr>\n",
       "      <th>0</th>\n",
       "      <td>2001309014</td>\n",
       "      <td>1</td>\n",
       "      <td>2556</td>\n",
       "      <td>10</td>\n",
       "      <td>4</td>\n",
       "      <td>1952</td>\n",
       "      <td>60</td>\n",
       "      <td>3</td>\n",
       "      <td>67</td>\n",
       "      <td>Dire</td>\n",
       "      <td>63050</td>\n",
       "      <td>5698</td>\n",
       "      <td>1967</td>\n",
       "      <td>86</td>\n",
       "      <td>6134</td>\n",
       "      <td>53399</td>\n",
       "      <td>4337</td>\n",
       "      <td>738</td>\n",
       "      <td>32</td>\n",
       "      <td>23</td>\n",
       "      <td>49</td>\n",
       "      <td>1843</td>\n",
       "      <td>50</td>\n",
       "      <td>game_mode_all_pick</td>\n",
       "      <td>lobby_type_normal</td>\n",
       "    </tr>\n",
       "    <tr>\n",
       "      <th>1</th>\n",
       "      <td>2001309014</td>\n",
       "      <td>1</td>\n",
       "      <td>2556</td>\n",
       "      <td>10</td>\n",
       "      <td>4</td>\n",
       "      <td>1952</td>\n",
       "      <td>60</td>\n",
       "      <td>3</td>\n",
       "      <td>67</td>\n",
       "      <td>Radiant</td>\n",
       "      <td>78900</td>\n",
       "      <td>17656</td>\n",
       "      <td>2910</td>\n",
       "      <td>106</td>\n",
       "      <td>1207</td>\n",
       "      <td>75619</td>\n",
       "      <td>9388</td>\n",
       "      <td>771</td>\n",
       "      <td>46</td>\n",
       "      <td>16</td>\n",
       "      <td>33</td>\n",
       "      <td>2344</td>\n",
       "      <td>83</td>\n",
       "      <td>game_mode_all_pick</td>\n",
       "      <td>lobby_type_normal</td>\n",
       "    </tr>\n",
       "    <tr>\n",
       "      <th>2</th>\n",
       "      <td>2001309152</td>\n",
       "      <td>0</td>\n",
       "      <td>2191</td>\n",
       "      <td>10</td>\n",
       "      <td>2039</td>\n",
       "      <td>0</td>\n",
       "      <td>0</td>\n",
       "      <td>63</td>\n",
       "      <td>218</td>\n",
       "      <td>Dire</td>\n",
       "      <td>71280</td>\n",
       "      <td>9356</td>\n",
       "      <td>2215</td>\n",
       "      <td>83</td>\n",
       "      <td>3909</td>\n",
       "      <td>57615</td>\n",
       "      <td>10846</td>\n",
       "      <td>604</td>\n",
       "      <td>37</td>\n",
       "      <td>17</td>\n",
       "      <td>22</td>\n",
       "      <td>2198</td>\n",
       "      <td>32</td>\n",
       "      <td>game_mode_all_pick</td>\n",
       "      <td>lobby_type_normal</td>\n",
       "    </tr>\n",
       "    <tr>\n",
       "      <th>3</th>\n",
       "      <td>2001309152</td>\n",
       "      <td>0</td>\n",
       "      <td>2191</td>\n",
       "      <td>10</td>\n",
       "      <td>2039</td>\n",
       "      <td>0</td>\n",
       "      <td>0</td>\n",
       "      <td>63</td>\n",
       "      <td>218</td>\n",
       "      <td>Radiant</td>\n",
       "      <td>47840</td>\n",
       "      <td>7751</td>\n",
       "      <td>1888</td>\n",
       "      <td>78</td>\n",
       "      <td>0</td>\n",
       "      <td>29644</td>\n",
       "      <td>540</td>\n",
       "      <td>346</td>\n",
       "      <td>10</td>\n",
       "      <td>21</td>\n",
       "      <td>38</td>\n",
       "      <td>1646</td>\n",
       "      <td>33</td>\n",
       "      <td>game_mode_all_pick</td>\n",
       "      <td>lobby_type_normal</td>\n",
       "    </tr>\n",
       "    <tr>\n",
       "      <th>4</th>\n",
       "      <td>2001309271</td>\n",
       "      <td>1</td>\n",
       "      <td>2772</td>\n",
       "      <td>10</td>\n",
       "      <td>0</td>\n",
       "      <td>1975</td>\n",
       "      <td>63</td>\n",
       "      <td>0</td>\n",
       "      <td>2</td>\n",
       "      <td>Dire</td>\n",
       "      <td>60345</td>\n",
       "      <td>3887</td>\n",
       "      <td>2143</td>\n",
       "      <td>94</td>\n",
       "      <td>0</td>\n",
       "      <td>63929</td>\n",
       "      <td>458</td>\n",
       "      <td>464</td>\n",
       "      <td>35</td>\n",
       "      <td>18</td>\n",
       "      <td>63</td>\n",
       "      <td>1734</td>\n",
       "      <td>47</td>\n",
       "      <td>game_mode_all_draft</td>\n",
       "      <td>lobby_type_ranked</td>\n",
       "    </tr>\n",
       "    <tr>\n",
       "      <th>5</th>\n",
       "      <td>2001309271</td>\n",
       "      <td>1</td>\n",
       "      <td>2772</td>\n",
       "      <td>10</td>\n",
       "      <td>0</td>\n",
       "      <td>1975</td>\n",
       "      <td>63</td>\n",
       "      <td>0</td>\n",
       "      <td>2</td>\n",
       "      <td>Radiant</td>\n",
       "      <td>101825</td>\n",
       "      <td>10182</td>\n",
       "      <td>2945</td>\n",
       "      <td>113</td>\n",
       "      <td>2274</td>\n",
       "      <td>92366</td>\n",
       "      <td>12185</td>\n",
       "      <td>786</td>\n",
       "      <td>63</td>\n",
       "      <td>9</td>\n",
       "      <td>36</td>\n",
       "      <td>2488</td>\n",
       "      <td>107</td>\n",
       "      <td>game_mode_all_draft</td>\n",
       "      <td>lobby_type_ranked</td>\n",
       "    </tr>\n",
       "  </tbody>\n",
       "</table>\n",
       "</div>"
      ],
      "text/plain": [
       "     match_id  radiant_win  duration  human_players  tower_status_dire  \\\n",
       "0  2001309014            1      2556             10                  4   \n",
       "1  2001309014            1      2556             10                  4   \n",
       "2  2001309152            0      2191             10               2039   \n",
       "3  2001309152            0      2191             10               2039   \n",
       "4  2001309271            1      2772             10                  0   \n",
       "5  2001309271            1      2772             10                  0   \n",
       "\n",
       "   tower_status_radiant  barracks_status_radiant  barracks_status_dire  \\\n",
       "0                  1952                       60                     3   \n",
       "1                  1952                       60                     3   \n",
       "2                     0                        0                    63   \n",
       "3                     0                        0                    63   \n",
       "4                  1975                       63                     0   \n",
       "5                  1975                       63                     0   \n",
       "\n",
       "   first_blood_time     Team  sum(gold_spent)  sum(gold)  sum(xp_per_min)  \\\n",
       "0                67     Dire            63050       5698             1967   \n",
       "1                67  Radiant            78900      17656             2910   \n",
       "2               218     Dire            71280       9356             2215   \n",
       "3               218  Radiant            47840       7751             1888   \n",
       "4                 2     Dire            60345       3887             2143   \n",
       "5                 2  Radiant           101825      10182             2945   \n",
       "\n",
       "   sum(level)  sum(hero_healing)  sum(hero_damage)  sum(tower_damage)  \\\n",
       "0          86               6134             53399               4337   \n",
       "1         106               1207             75619               9388   \n",
       "2          83               3909             57615              10846   \n",
       "3          78                  0             29644                540   \n",
       "4          94                  0             63929                458   \n",
       "5         113               2274             92366              12185   \n",
       "\n",
       "   sum(last_hits)  sum(kills)  sum(denies)  sum(deaths)  sum(gold_per_min)  \\\n",
       "0             738          32           23           49               1843   \n",
       "1             771          46           16           33               2344   \n",
       "2             604          37           17           22               2198   \n",
       "3             346          10           21           38               1646   \n",
       "4             464          35           18           63               1734   \n",
       "5             786          63            9           36               2488   \n",
       "\n",
       "   sum(assists)       game_mode_name    lobby_type_name  \n",
       "0            50   game_mode_all_pick  lobby_type_normal  \n",
       "1            83   game_mode_all_pick  lobby_type_normal  \n",
       "2            32   game_mode_all_pick  lobby_type_normal  \n",
       "3            33   game_mode_all_pick  lobby_type_normal  \n",
       "4            47  game_mode_all_draft  lobby_type_ranked  \n",
       "5           107  game_mode_all_draft  lobby_type_ranked  "
      ]
     },
     "execution_count": 40,
     "metadata": {},
     "output_type": "execute_result"
    }
   ],
   "source": [
    "pd.set_option('display.max_columns', 50)\n",
    "df = pd.read_sql_query('''\n",
    "SELECT *\n",
    "FROM match AS m\n",
    "INNER JOIN\n",
    "    (SELECT player_match_id,REPLACE(REPLACE(sum(player_slot),10,\"Radiant\"),650,\"Dire\") Team,sum(gold_spent),sum(gold),sum(xp_per_min),sum(level),sum(hero_healing),sum(hero_damage),sum(tower_damage),sum(last_hits),sum(kills),sum(denies),sum(deaths),sum(gold_per_min),sum(assists)\n",
    "    FROM player\n",
    "    WHERE player_slot < 5\n",
    "    GROUP BY player_match_id\n",
    "    UNION\n",
    "    SELECT player_match_id,REPLACE(REPLACE(sum(player_slot),10,\"Radiant\"),650,\"Dire\") Team,sum(gold_spent),sum(gold),sum(xp_per_min),sum(level),sum(hero_healing),sum(hero_damage),sum(tower_damage),sum(last_hits),sum(kills),sum(denies),sum(deaths),sum(gold_per_min),sum(assists)\n",
    "    FROM player\n",
    "    WHERE player_slot > 5\n",
    "    GROUP BY player_match_id) AS p\n",
    "ON m.match_id = p.player_match_id\n",
    "INNER JOIN\n",
    "    (SELECT id game_mode_id, name game_mode_name\n",
    "    FROM game_mode\n",
    "    ) as gm\n",
    "ON m.game_mode = gm.game_mode_id\n",
    "INNER JOIN\n",
    "    (SELECT id lobby_type_id, name lobby_type_name\n",
    "    FROM lobby_type \n",
    "    ) as lt\n",
    "ON m.lobby_type = lt.lobby_type_id\n",
    "''', conn)\n",
    "\n",
    "# Eliminando colunas desnecessárias (indices irrelevantes)\n",
    "df.drop(['game_mode','lobby_type','game_mode_id','lobby_type_id', 'player_match_id'], axis=1, inplace=True)\n",
    "\n",
    "df.head(6)"
   ]
  },
  {
   "cell_type": "markdown",
   "metadata": {},
   "source": [
    "Verificamos rapidamente se existem valores nulos entre os dados"
   ]
  },
  {
   "cell_type": "code",
   "execution_count": null,
   "metadata": {},
   "outputs": [],
   "source": [
    "# 0 significa que nenhum valor na tabela é nulo\n",
    "df.isnull().sum().max()"
   ]
  },
  {
   "cell_type": "markdown",
   "metadata": {},
   "source": [
    "As colunas presentes no dataset são as seguintes"
   ]
  },
  {
   "cell_type": "code",
   "execution_count": null,
   "metadata": {},
   "outputs": [],
   "source": [
    "df.columns"
   ]
  },
  {
   "cell_type": "markdown",
   "metadata": {},
   "source": [
    "Com esse dataframe em mãos, podemos visualizar algumas estatísticas interessantes dos dados"
   ]
  },
  {
   "cell_type": "code",
   "execution_count": 42,
   "metadata": {},
   "outputs": [
    {
     "data": {
      "image/png": "[encoded data removed]",
      "text/plain": [
       "<Figure size 1440x1440 with 25 Axes>"
      ]
     },
     "metadata": {
      "needs_background": "light"
     },
     "output_type": "display_data"
    }
   ],
   "source": [
    "df_stats = df.drop(['match_id'], axis=1)\n",
    "\n",
    "df_stats.hist(figsize=(20,20), bins=38)\n",
    "plt.show()"
   ]
  },
  {
   "cell_type": "code",
   "execution_count": null,
   "metadata": {},
   "outputs": [],
   "source": []
  },
  {
   "cell_type": "markdown",
   "metadata": {},
   "source": [
    "### Distribuição das vitórias por time"
   ]
  },
  {
   "cell_type": "code",
   "execution_count": null,
   "metadata": {},
   "outputs": [],
   "source": [
    "colors = [\"#d66853\", \"#0081af\"]\n",
    "plt.figure(figsize=(10,5))\n",
    "sns.countplot('radiant_win', data=df, palette=colors)\n",
    "plt.title('Distribuição das vitórias por time \\n (0: Vitória dos Dire || 1: Vitória dos Radiant)', fontsize=16)\n",
    "plt.xlabel('Resultado', fontsize=15)\n",
    "plt.ylabel('Quantidade de vitórias', fontsize=15)"
   ]
  },
  {
   "cell_type": "markdown",
   "metadata": {},
   "source": [
    "### Histograma da duração das partidas"
   ]
  },
  {
   "cell_type": "code",
   "execution_count": 38,
   "metadata": {},
   "outputs": [
    {
     "data": {
      "text/plain": [
       "Text(2365.901649746193, 5, 'Média = 2315.901649746193')"
      ]
     },
     "execution_count": 38,
     "metadata": {},
     "output_type": "execute_result"
    },
    {
     "data": {
      "image/png": "[encoded data removed]",
      "text/plain": [
       "<Figure size 1152x432 with 1 Axes>"
      ]
     },
     "metadata": {
      "needs_background": "light"
     },
     "output_type": "display_data"
    }
   ],
   "source": [
    "plt.xlabel('Duração (s)', fontsize=16)\n",
    "plt.ylabel('Quantidade de partidas', fontsize=16)\n",
    "plt.title('Histograma da duração das partidas', fontsize=20)\n",
    "df['duration'].hist(figsize=(16,6),bins=32)\n",
    "plt.vlines(df['duration'].mean(), 0, 10, color='red')\n",
    "plt.text(df['duration'].mean()+50, 5, 'Média = '+str(df['duration'].mean()))"
   ]
  },
  {
   "cell_type": "markdown",
   "metadata": {},
   "source": [
    "### Tempo em que acontece o first blood"
   ]
  },
  {
   "cell_type": "code",
   "execution_count": null,
   "metadata": {},
   "outputs": [],
   "source": [
    "plt.xlabel('Tempo (s)', fontsize=16)\n",
    "plt.ylabel('Quantidade de first bloods', fontsize=16)\n",
    "plt.title('Tempo em que o first blood acontece', fontsize=20)\n",
    "\n",
    "plt.vlines(df['first_blood_time'].mean(), 0, 250, color='red')\n",
    "plt.text(df['first_blood_time'].mean()+5, 230, 'Média = '+str(df['first_blood_time'].mean())+' segundos')\n",
    "\n",
    "df['first_blood_time'].hist(figsize=(16,6),bins=29)"
   ]
  },
  {
   "cell_type": "code",
   "execution_count": null,
   "metadata": {},
   "outputs": [],
   "source": []
  },
  {
   "cell_type": "code",
   "execution_count": 44,
   "metadata": {},
   "outputs": [],
   "source": [
    "# Dataframe contendo apenas vitórias\n",
    "df_wins = df[((df.radiant_win == 1) & (df.Team == 'Radiant')) | ((df.radiant_win == 0) & (df.Team == 'Dire'))]\n",
    "\n",
    "# Dataframe contendo apenas derrotas\n",
    "df_losses = df[((df.radiant_win == 0) & (df.Team == 'Radiant')) | ((df.radiant_win == 1) & (df.Team == 'Dire'))]\n",
    "\n"
   ]
  },
  {
   "cell_type": "markdown",
   "metadata": {},
   "source": [
    "### Testes de hipótese podem vir aqui.\n",
    "\n",
    "### Previsão (uma ou duas sub-seções dependendo dos modelos utilizados)"
   ]
  },
  {
   "cell_type": "markdown",
   "metadata": {},
   "source": [
    "# Conclusões\n",
    "Responda sua pergunta pelo menos de forma evidencial."
   ]
  },
  {
   "cell_type": "markdown",
   "metadata": {},
   "source": [
    "# Vídeo no Youtube 5 minutos"
   ]
  },
  {
   "cell_type": "code",
   "execution_count": null,
   "metadata": {},
   "outputs": [],
   "source": [
    "from IPython.display import YouTubeVideo\n",
    "YouTubeVideo('2bCCk0xpurE')"
   ]
  },
  {
   "cell_type": "markdown",
   "metadata": {},
   "source": [
    "# Vargas"
   ]
  },
  {
   "cell_type": "code",
   "execution_count": null,
   "metadata": {},
   "outputs": [],
   "source": []
  },
  {
   "cell_type": "markdown",
   "metadata": {},
   "source": [
    "# Raydan"
   ]
  },
  {
   "cell_type": "code",
   "execution_count": null,
   "metadata": {},
   "outputs": [],
   "source": []
  }
 ],
 "metadata": {
  "kernelspec": {
   "display_name": "Python 3",
   "language": "python",
   "name": "python3"
  },
  "language_info": {
   "codemirror_mode": {
    "name": "ipython",
    "version": 3
   },
   "file_extension": ".py",
   "mimetype": "text/x-python",
   "name": "python",
   "nbconvert_exporter": "python",
   "pygments_lexer": "ipython3",
   "version": "3.6.7"
  }
 },
 "nbformat": 4,
 "nbformat_minor": 2
}
