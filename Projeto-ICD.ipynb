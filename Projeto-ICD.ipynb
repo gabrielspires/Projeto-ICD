{
 "cells": [
  {
   "cell_type": "markdown",
   "metadata": {},
   "source": [
    "# Projeto de ICD - Dota 2"
   ]
  },
  {
   "cell_type": "code",
   "execution_count": 17,
   "metadata": {},
   "outputs": [],
   "source": [
    "import numpy as np\n",
    "import pandas as pd\n",
    "import matplotlib as plt\n",
    "\n",
    "import json\n",
    "import pprint"
   ]
  },
  {
   "cell_type": "code",
   "execution_count": 31,
   "metadata": {},
   "outputs": [],
   "source": [
    "with open('amostra.json', 'r') as game_data:\n",
    "    json_data = json.load(game_data)"
   ]
  },
  {
   "cell_type": "code",
   "execution_count": 34,
   "metadata": {},
   "outputs": [
    {
     "name": "stdout",
     "output_type": "stream",
     "text": [
      "Colunas:\n",
      "\n",
      "match_id\n",
      "match_seq_num\n",
      "radiant_win\n",
      "start_time\n",
      "duration\n",
      "tower_status_radiant\n",
      "tower_status_dire\n",
      "barracks_status_radiant\n",
      "barracks_status_dire\n",
      "cluster\n",
      "first_blood_time\n",
      "lobby_type\n",
      "human_players\n",
      "leagueid\n",
      "positive_votes\n",
      "negative_votes\n",
      "game_mode\n",
      "engine\n",
      "picks_bans\n",
      "parse_status\n",
      "chat\n",
      "objectives\n",
      "radiant_gold_adv\n",
      "radiant_xp_adv\n",
      "teamfights\n",
      "version\n",
      "players\n"
     ]
    }
   ],
   "source": [
    "print(\"Colunas:\\n\")\n",
    "\n",
    "for match in json_data:\n",
    "    for key in match:\n",
    "        print(key)\n",
    "    break\n",
    "        \n",
    "# Lembrando que vários atributos listados tem mais \"sub-atributos\", vale a pena olhar o arquivo amostra.json"
   ]
  }
 ],
 "metadata": {
  "kernelspec": {
   "display_name": "Python 3",
   "language": "python",
   "name": "python3"
  },
  "language_info": {
   "codemirror_mode": {
    "name": "ipython",
    "version": 3
   },
   "file_extension": ".py",
   "mimetype": "text/x-python",
   "name": "python",
   "nbconvert_exporter": "python",
   "pygments_lexer": "ipython3",
   "version": "3.6.7"
  }
 },
 "nbformat": 4,
 "nbformat_minor": 2
}
