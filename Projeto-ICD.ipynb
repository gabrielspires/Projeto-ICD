{
  "cells": [
    {
      "metadata": {},
      "cell_type": "markdown",
      "source": "# Projeto de ICD - Dota 2"
    },
    {
      "metadata": {
        "trusted": true
      },
      "cell_type": "code",
      "source": "'''\nGabriel Henrique\nMatheus Vargas\nRaydan Gaspar\n'''\n\nimport numpy as np\nimport pandas as pd\nimport matplotlib as plt\n\nimport json\nimport pprint\n\n# xaa.json tem 791 partidas\n# amostra.json tem 5 partidas",
      "execution_count": 4,
      "outputs": []
    },
    {
      "metadata": {
        "trusted": true
      },
      "cell_type": "code",
      "source": "with open('xaa.json', 'r') as game_data:\n    json_data = json.load(game_data)",
      "execution_count": 6,
      "outputs": []
    },
    {
      "metadata": {
        "trusted": true
      },
      "cell_type": "code",
      "source": "print(\"Colunas:\\n\")\n\nfor match in json_data:\n    for column in match:\n        print(column)\n        if isinstance(match[column], list):\n            for sub_column in match[column]:\n                if isinstance(sub_column, dict):\n                    for key in sub_column:\n                        print('\\t', key)\n                    print()\n                    break\n        \n    break\n        \n# Lembrando que vários atributos listados tem mais \"sub-atributos\", vale a pena olhar o arquivo amostra.json",
      "execution_count": 7,
      "outputs": [
        {
          "output_type": "stream",
          "text": "Colunas:\n\ntower_status_radiant\nhuman_players\nfirst_blood_time\nparse_status\nradiant_gold_adv\nduration\nbarracks_status_radiant\nteamfights\n\t players\n\t start\n\t deaths\n\t end\n\t last_death\n\ntower_status_dire\nobjectives\n\t value\n\t player1\n\t time\n\t slot\n\t type\n\t player2\n\nversion\nmatch_seq_num\nstart_time\nchat\n\t unit\n\t slot\n\t time\n\t key\n\t type\n\npositive_votes\nmatch_id\ngame_mode\nleagueid\npicks_bans\nlobby_type\nradiant_xp_adv\nplayers\n\t damage\n\t item_3\n\t item_0\n\t player_slot\n\t damage_taken\n\t modifier_applied\n\t item_uses\n\t additional_units\n\t assists\n\t xp_t\n\t deaths\n\t buyback_log\n\t level\n\t gold_spent\n\t stuns\n\t gold\n\t pings\n\t actions\n\t last_hits\n\t max_hero_hit\n\t hero_hits\n\t sen\n\t purchase_log\n\t sen_log\n\t obs_log\n\t item_2\n\t xp_reasons\n\t killed\n\t ability_uses\n\t account_id\n\t purchase\n\t denies\n\t gold_per_min\n\t item_4\n\t healing\n\t hero_damage\n\t item_1\n\t hero_id\n\t kills\n\t runes\n\t gold_t\n\t killed_by\n\t obs\n\t kills_log\n\t xp_per_min\n\t lh_t\n\t tower_damage\n\t multi_kills\n\t kill_streaks\n\t item_5\n\t damage_inflictor\n\t hero_healing\n\t ability_upgrades\n\t leaver_status\n\t gold_reasons\n\t lane_pos\n\t times\n\ncluster\nengine\nradiant_win\nnegative_votes\nbarracks_status_dire\n",
          "name": "stdout"
        }
      ]
    },
    {
      "metadata": {
        "trusted": true
      },
      "cell_type": "code",
      "source": "first_blood_times = []\nfor match in json_data:\n    first_blood_times.append(match['first_blood_time'])\n#     if len(first_blood_times) == 100: break\n\ndf = pd.DataFrame(data = first_blood_times, columns = ['Time in seconds of first kill'])\n# print(df)\ndf.hist(bins=20, grid=False, ylabelsize=20, xlabelsize=20, figsize = (10,5))",
      "execution_count": 9,
      "outputs": [
        {
          "output_type": "execute_result",
          "execution_count": 9,
          "data": {
            "text/plain": "array([[<matplotlib.axes._subplots.AxesSubplot object at 0x7f398b2f9e80>]],\n      dtype=object)"
          },
          "metadata": {}
        },
        {
          "output_type": "display_data",
          "data": {
            "image/png": "[encoded data removed]",
            "text/plain": "<matplotlib.figure.Figure at 0x7f3971e5f8d0>"
          },
          "metadata": {}
        }
      ]
    }
  ],
  "metadata": {
    "kernelspec": {
      "name": "python3",
      "display_name": "Python 3",
      "language": "python"
    },
    "language_info": {
      "mimetype": "text/x-python",
      "nbconvert_exporter": "python",
      "name": "python",
      "pygments_lexer": "ipython3",
      "version": "3.5.4",
      "file_extension": ".py",
      "codemirror_mode": {
        "version": 3,
        "name": "ipython"
      }
    }
  },
  "nbformat": 4,
  "nbformat_minor": 2
}